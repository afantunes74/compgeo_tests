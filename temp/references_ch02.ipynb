{
 "cells": [
  {
   "attachments": {},
   "cell_type": "markdown",
   "id": "633e0b7b-2f8a-4af1-aea9-b82774e115e7",
   "metadata": {},
   "source": [
    "# References\n",
    "\n",
    "C.I.U. AND WAR OFFICE. 1944. Town Plan of Roma (Rome) (North Sheet),\n",
    "1:10,000. Washington, D. C.: War Office.\n",
    "\n",
    "Cartopy. 2018a. Projections\n",
    "\\[[Online](https://scitools.org.uk/cartopy/docs/latest/crs/projections.html)\\].\n",
    "UK: SciTools. \\[Accessed 19 November, 2019\\]\n",
    "\n",
    "Cartopy. 2018b. Tissot’s Indicatrix\n",
    "\\[[Online](https://scitools.org.uk/cartopy/docs/latest/gallery/tissot.html)\\].\n",
    "UK: SciTools. \\[Accessed 19 November, 2019\\].\n",
    "\n",
    "Cartopy. 2018c. Understanding the Transform and Projection Keywords\n",
    "\\[[Online](https://scitools.org.uk/cartopy/docs/latest/tutorials/understanding_transform.html)\\].\n",
    "UK: SciTools. \\[Accessed 19 November, 2019\\].\n",
    "\n",
    "Geographic Section - General Staff. 1941. Aberdeen, 1:1,000,000. Great\n",
    "Britain: War Office.\n",
    "\n",
    "Iliffe, J. and Lott, R. 2008. Datums and Map Projections: For Remote\n",
    "Sensing, GIS, and Surveying, Dunbeath, Scotland, Whittles.\n",
    "\n",
    "International Association of Oil and Gas Producers. 2018. Geomatics\n",
    "Guidance Note 7, Part 2 Coordinate conversions and Transformations\n",
    "including Formulas.\n",
    "\n",
    "Kraak, M.J. and Ormeling, F.J. 2003. Cartography: visualization of\n",
    "geospatial data. Addison Wesley.\n",
    "\n",
    "Lexico. 2019. Geodesy\n",
    "\\[[Online](https://www.lexico.com/en/definition/geodesy)\\]. Oxford.\n",
    "\\[Accessed August, 2019\\].\n",
    "\n",
    "Lisle, R. J., Brabham, P. and Barnes, J. W. 2011. Basic Geological\n",
    "Mapping, Chicester, UK, Wiley-Blackwell.\n",
    "\n",
    "Robinson, A. H., Morrison, J. L., Muehrcke, P. C., Kimerling, A. J. and\n",
    "Guptill, S. C. 1995. Elements of Cartography, New York, Wiley.\n",
    "\n",
    "Snyder, J. P. 1987. Map Projections: a working manual. Geological Survey\n",
    "Professional Paper. Washington, D. C., U.S.A.: United States Government\n",
    "Printing Office.\n",
    "\n",
    "Watson, L. 2017. Spatial-based assessment at continental to global\n",
    "scale: case studies in petroleum exploration and ecosystem services.\n",
    "PhD, Utrecht University.\n",
    "\n",
    "Whitaker, J. 2019. pyproj Transformer Documentation\n",
    "\\[[Online](https://pyproj4.github.io/pyproj/stable/api/transformer.html?highlight=transformer)\\].\n",
    "\\[Accessed 7 January, 2020\\]."
   ]
  }
 ],
 "metadata": {
  "kernelspec": {
   "display_name": "Python 3 (ipykernel)",
   "language": "python",
   "name": "python3"
  },
  "language_info": {
   "codemirror_mode": {
    "name": "ipython",
    "version": 3
   },
   "file_extension": ".py",
   "mimetype": "text/x-python",
   "name": "python",
   "nbconvert_exporter": "python",
   "pygments_lexer": "ipython3",
   "version": "3.11.0"
  }
 },
 "nbformat": 4,
 "nbformat_minor": 5
}
