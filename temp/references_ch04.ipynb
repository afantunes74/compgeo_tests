{
 "cells": [
  {
   "attachments": {},
   "cell_type": "markdown",
   "id": "5262e53c-3a73-4fa8-a6e0-b1e0048ce86e",
   "metadata": {},
   "source": [
    "# References\n",
    "\n",
    "Allmendinger, R.W., Cardozo, N. and Fisher, D.W. 2012. Structural\n",
    "Geology Algorithms: Vectors and Tensors. Cambridge University Press.\n",
    "\n",
    "Bennison, G.M., Olver, P.A. and Moseley, K.A. 2011. An Introduction to\n",
    "Geological Structures and Maps, 8th edition. Hodder Education.\n",
    "\n",
    "Fisher, N.I., Lewis, T. and Embleton, B.J.J. 1987. Statistical analysis\n",
    "of spherical data. Cambridge University Press.\n",
    "\n",
    "Leyshon, P.R. and Lisle, R.J. 1996. Stereographic Projection Techniques\n",
    "in Structural Geology. Butterworth Heinemann.\n",
    "\n",
    "Marshak, S. and Mitra, G. 1988. Basic Methods of Structural Geology.\n",
    "Prentice Hall.\n",
    "\n",
    "Ragan, D.M. 2009. Structural Geology: An Introduction to Geometrical\n",
    "Techniques. Cambridge University Press.\n",
    "\n",
    "Taylor, J.R. 1997. An Introduction to Error Analysis, 2nd edition.\n",
    "University Science Books."
   ]
  }
 ],
 "metadata": {
  "kernelspec": {
   "display_name": "Python 3 (ipykernel)",
   "language": "python",
   "name": "python3"
  },
  "language_info": {
   "codemirror_mode": {
    "name": "ipython",
    "version": 3
   },
   "file_extension": ".py",
   "mimetype": "text/x-python",
   "name": "python",
   "nbconvert_exporter": "python",
   "pygments_lexer": "ipython3",
   "version": "3.11.0"
  }
 },
 "nbformat": 4,
 "nbformat_minor": 5
}
