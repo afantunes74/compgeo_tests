{
 "cells": [
  {
   "attachments": {},
   "cell_type": "markdown",
   "id": "670ac61c-4ce5-4ca6-ae1e-66c0a4ec511b",
   "metadata": {},
   "source": [
    "# References\n",
    "\n",
    "Allmendinger, R.W., Gephart, J.W. and Marrett, R.A. 1989. Notes on fault\n",
    "slip analysis. GSA short course.\n",
    "\n",
    "Allmendinger, R.W., Smalley, R.J., Bevis, M. et al. 2005. Bending the\n",
    "Bolivian orocline in real time. Geology 33, 905-908.\n",
    "\n",
    "Allmendinger, R.W., Reilinger, R. and Loveless, J. 2007. Strain and\n",
    "rotation rate from GPS in Tibet, Anatolia, and the Altiplano. Tectonics\n",
    "26, TC3013.\n",
    "\n",
    "Allmendinger, R.W., Cardozo, N. and Fisher, D.M. 2012. Structural\n",
    "Geology Algorithms: Vectors and Tensors. Cambridge University Press.\n",
    "\n",
    "Brooks, B. A., Bevis, M., R. Smalley, J. et al. 2003. Crustal Motion in\n",
    "the Southern Andes (26-36S): do the Andes behave like a microplate?\n",
    "Geochemistry, Geophysics, Geosystems - G3 4, GC000505.\n",
    "\n",
    "Cardozo, N. and Allmendinger, R.W. 2009. SSPX: A program to compute\n",
    "strain from displacement/velocity data. Computers and Geosciences 35,\n",
    "1343-1357.\n",
    "\n",
    "DePaor, D.G. 1983. Ortographic analysis of geological structures - I.\n",
    "Deformation theory. Journal of Structural Geology 5, 255-277.\n",
    "\n",
    "Kendrick, E., Bevis, M., Smalley, R. and Brooks, B. 2001. An integrated\n",
    "crustal velocity field for the Central Andes. Geochemistry, Geophysics,\n",
    "Geosystems - G3 2, GC000191.\n",
    "\n",
    "Marshak, S. and Mitra, G. 1988. Basic Methods of Structural Geology.\n",
    "Prentice Hall.\n",
    "\n",
    "Means, W.D. 1976. Stress and Strain: Basic Concepts of Continuum\n",
    "Mechanics for Geologists. New York: Springer-Verlag.\n",
    "\n",
    "Press, W.H., Flannery, B.P., Teoukolsky, S.A. and Vetterling, W.T. 1986.\n",
    "Numerical Recipes: The Art of Scientific Computing. Cambridge University\n",
    "Press.\n",
    "\n",
    "Ragan, D.M. 2009. Structural Geology: An Introduction to Geometrical\n",
    "Techniques. Cambridge University Press.\n",
    "\n",
    "Ramsay, J.G. 1967. Folding and Fracturing of Rocks. McGraw-Hill, New\n",
    "York.\n",
    "\n",
    "Rowland, S.M. and Duebendorfer, E.M. 1994. Structural Analysis and\n",
    "Synthesis: A Laboratory Course in Structural Geology. Wiley.\n",
    "\n",
    "Truesdell, C. 1953. Two measures of vorticity. Journal of Rational\n",
    "Mechanics and Analysis 2, 173-217.\n",
    "\n",
    "Zhang, P., Zhengkang, S., Min, W., et al. 2004, Continuous deformation\n",
    "of the Tibetan Plateau from Global Positioning System data: Geology 32,\n",
    "809-812."
   ]
  }
 ],
 "metadata": {
  "kernelspec": {
   "display_name": "Python 3 (ipykernel)",
   "language": "python",
   "name": "python3"
  },
  "language_info": {
   "codemirror_mode": {
    "name": "ipython",
    "version": 3
   },
   "file_extension": ".py",
   "mimetype": "text/x-python",
   "name": "python",
   "nbconvert_exporter": "python",
   "pygments_lexer": "ipython3",
   "version": "3.11.0"
  }
 },
 "nbformat": 4,
 "nbformat_minor": 5
}
