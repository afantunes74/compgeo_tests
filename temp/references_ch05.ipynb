{
 "cells": [
  {
   "attachments": {},
   "cell_type": "markdown",
   "id": "d5b670ea-d79b-413a-949a-f8d55b1b9b96",
   "metadata": {},
   "source": [
    "# References\n",
    "\n",
    "Albee, H.F. and Cullins, H.L. 1975. Geologic Map of the Poker Peak\n",
    "Quadrangle, Bonneville County, Idaho. U.S. Geological Survey, Geologic\n",
    "Quadrangle Map GQ 1260.\n",
    "\n",
    "Allmendinger, R.W., Cardozo, N. and Fisher, D.W. 2012. Structural\n",
    "Geology Algorithms: Vectors and Tensors. Cambridge University Press.\n",
    "\n",
    "Ammendinger, R.W. and Judge, P. 2013. Stratigraphic uncertainty and\n",
    "errors in shortening from balanced sections in the North American\n",
    "Cordillera. GSA Bulletin 125, 1569-1579.\n",
    "\n",
    "Allmendinger, R.W. 2020a. Modern Structural Practice: A structural\n",
    "geology laboratory manual for the 21st century.\n",
    "\\[[Online](https://www.rickallmendinger.net/download)\\]. \\[Accessed\n",
    "March, 2021\\].\n",
    "\n",
    "Allmendinger, R.W., 2020b. GMDE: Extracting quantitative information\n",
    "from geologic maps. Geosphere 16, X, 1– 13.\n",
    "\n",
    "Bennison, G.M., Olver, P.A. and Moseley, K.A. 2011. An Introduction to\n",
    "Geological Structures and Maps, 8th edition. Hodder Education.\n",
    "\n",
    "Leyshon, P.R. and Lisle, R.J. 1996. Stereographic Projection Techniques\n",
    "in Structural Geology. Butterworth Heinemann.\n",
    "\n",
    "Marshak, S. and Mitra, G. 1988. Basic Methods of Structural Geology.\n",
    "Prentice Hall.\n",
    "\n",
    "Price, R.A. 1970. Geology, Canmore (east half), west of Fifth Meridian,\n",
    "Alberta: Geological Survey of Canada “A” Series Map 1265A, scale\n",
    "1:50,000.\n",
    "\n",
    "Ragan, D.M. 2009. Structural Geology: An Introduction to Geometrical\n",
    "Techniques. Cambridge University Press.\n",
    "\n",
    "Rioux, R. L. 1994. Geologic Map of the Sheep Mountain‐Little Sheep\n",
    "Mountain Area, Big Horn County, Wyoming, U.S. Geol. Surv. Open File\n",
    "Rep., 94‐191.\n",
    "\n",
    "Suppe, J. 1985. Principles of Structural Geology. Prentice-Hall."
   ]
  }
 ],
 "metadata": {
  "kernelspec": {
   "display_name": "Python 3 (ipykernel)",
   "language": "python",
   "name": "python3"
  },
  "language_info": {
   "codemirror_mode": {
    "name": "ipython",
    "version": 3
   },
   "file_extension": ".py",
   "mimetype": "text/x-python",
   "name": "python",
   "nbconvert_exporter": "python",
   "pygments_lexer": "ipython3",
   "version": "3.11.0"
  }
 },
 "nbformat": 4,
 "nbformat_minor": 5
}
