{
 "cells": [
  {
   "cell_type": "markdown",
   "id": "0e716cb3-ae22-4baf-83f4-1a2d484444b1",
   "metadata": {},
   "source": [
    "# Footnotes\n",
    "\n",
    "**OK** [1] Notice that in the notebook we concentrate on features relevant to this resource. There is much more to learn about Python and there are very good online and book resources to do that.\n",
    "\n",
    "**OK** [2] In this book, a gray box indicates code, and a white box output.\n",
    "\n",
    "**OK** [3] This example is just for demonstration. Python has specialized functions to convert from degrees to radians (`math.radians`) and vice-versa (`math.degrees`).\n",
    "\n",
    "**OK** [4] In Python, a long line within parenthesis can be broken into several lines.\n",
    "\n",
    "**OK** [5] In Python, a long string within parenthesis can be split as shown in the code above.\n",
    "\n",
    "**OK** [6] If it does not, press `Update index` in the right panel.\n",
    "\n",
    "**OK** [7] If Cartopy is lower than v. 0.21, you will need to downgrade the Matplotlib from 3.6.2 to 3.5.2. Open a terminal or command window. Type `conda activate ch2cartopy` followed by `Enter`, and then `conda install matplotlib==3.5.2` followed by `Enter`.\n",
    "\n",
    "**Ok** [8] In Python, the backslash character $\\backslash$ can be used to split a long line of code.\n",
    "\n",
    "**OK** [9] Notice that the code can be further simplified by the use of the Numpy library or the Pandas library.\n",
    "\n",
    "**OK** [10] There is even a better compass called the [Brunton axis transit](http://www.realscienceinnovations.com/brunton-axis.html).\n",
    "\n",
    "**OK** [11] A grid of regularly spaced points in east and north and with elevation at each point.\n",
    "\n",
    "**OK** [12] `eigh` also sorts the eigenvalues in ascending order.\n",
    "\n",
    "**OK** [13] The sign change in the equation for $\\tau$ is due to our convention of considering compressional tractions as positive.\n",
    "\n",
    "**OK** [14] By convention, we use $\\mathbf{X}$ to refer to the undeformed coordinates, and $\\mathbf{x}$ to denote the deformed coordinates.\n",
    "\n",
    "**OK** [15] We use $\\mathbf{e}$ to denote the displacement gradient. This is different than the non-bold italic letter $e$ which is used for elongation.\n",
    "\n",
    "**OK** [16] This is the same file included in the program [FaultKin](https://www.rickallmendinger.net/faultkin) by Richard Allmendinger.\n",
    "\n",
    "**OK** [17] In 3D there are 12 unknowns and each station delivers 3 equations. Therefore, we need a minimum of 4 non-colinear stations to determine the strain ellipsoid.\n",
    "\n",
    "**OK** [18] We use an upper bar to denote tensors in the deformed configuration, e.g. $\\bar{e}_{ij}$ and $\\bar{E}_{ij}$.\n",
    "\n",
    "**OK** [19] A nice analogy for $\\nu$ is a bottle stopper. A cork stopper can be cylindrical, while a rubber stopper must be tapered.\n",
    "\n",
    "**OK** [20] For simplicity, we use in this section $\\mathbf{x}$ and $\\mathbf{z}$ instead of $\\mathbf{X_1}$ and $\\mathbf{X_2}$.\n",
    "\n",
    "**OK** [21] The finite difference method is a numerical method for solving differential equations as differences between points in a grid of regular cells. Staggered grids are superimposed grids that are slightly shifted in location. In our case, the stress and velocity grids are slightly shifted."
   ]
  },
  {
   "cell_type": "code",
   "execution_count": null,
   "id": "a7a5795d-a224-48ed-80b6-deddee80a4f4",
   "metadata": {},
   "outputs": [],
   "source": []
  }
 ],
 "metadata": {
  "kernelspec": {
   "display_name": "Python 3 (ipykernel)",
   "language": "python",
   "name": "python3"
  },
  "language_info": {
   "codemirror_mode": {
    "name": "ipython",
    "version": 3
   },
   "file_extension": ".py",
   "mimetype": "text/x-python",
   "name": "python",
   "nbconvert_exporter": "python",
   "pygments_lexer": "ipython3",
   "version": "3.11.0"
  }
 },
 "nbformat": 4,
 "nbformat_minor": 5
}
