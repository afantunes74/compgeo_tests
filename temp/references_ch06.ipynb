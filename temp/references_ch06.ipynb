{
 "cells": [
  {
   "attachments": {},
   "cell_type": "markdown",
   "id": "d4d0eda0-a136-4111-b6a6-fa7bb2659b8e",
   "metadata": {},
   "source": [
    "# References\n",
    "\n",
    "Albee, H.F. and Cullins, H.L. 1975. Geologic Map of the Poker Peak\n",
    "Quadrangle, Bonneville County, Idaho. U.S. Geological Survey, Geologic\n",
    "Quadrangle Map GQ 1260.\n",
    "\n",
    "Allmendinger, R.W., Cardozo, N. and Fisher, D.M. 2012. Structural\n",
    "Geology Algorithms: Vectors and Tensors. Cambridge University Press.\n",
    "\n",
    "Allmendinger, R.W. 2020a. Modern Structural Practice: A structural\n",
    "geology laboratory manual for the 21st century.\n",
    "\\[[Online](https://www.rickallmendinger.net/download)\\]. \\[Accessed\n",
    "March, 2021\\].\n",
    "\n",
    "Allmendinger, R.W., 2020b. GMDE: Extracting quantitative information\n",
    "from geologic maps. Geosphere 16, X, 1– 13.\n",
    "\n",
    "Charlesworth, H.A.K., Langenberg, C.W. and Ramsden, J. 1976. Determining\n",
    "axes, axial planes, and sections of macroscopic folds using\n",
    "computer-based methods. Canadian Journal of Earth Science 13, 54-65.\n",
    "\n",
    "Fernandez, O. 2005. Obtaining a best fitting plane through 3D\n",
    "georeferenced data. Journal of Structural Geology 27, 855–858.\n",
    "\n",
    "Fisher, N.I., Lewis, T. and Embleton, B.J.J. 1987. Statistical analysis\n",
    "of spherical data. Cambridge University Press.\n",
    "\n",
    "Trede, C., Cardozo, N. and Watson, L. 2019. What is the appropriate\n",
    "sample size for strike and dip measurements? An evaluation from compass,\n",
    "smartphone and LIDAR measurements. Norwegian Journal of Geology 99,\n",
    "1-14."
   ]
  }
 ],
 "metadata": {
  "kernelspec": {
   "display_name": "Python 3 (ipykernel)",
   "language": "python",
   "name": "python3"
  },
  "language_info": {
   "codemirror_mode": {
    "name": "ipython",
    "version": 3
   },
   "file_extension": ".py",
   "mimetype": "text/x-python",
   "name": "python",
   "nbconvert_exporter": "python",
   "pygments_lexer": "ipython3",
   "version": "3.11.0"
  }
 },
 "nbformat": 4,
 "nbformat_minor": 5
}
