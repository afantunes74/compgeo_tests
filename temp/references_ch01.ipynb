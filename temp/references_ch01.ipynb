{
 "cells": [
  {
   "attachments": {},
   "cell_type": "markdown",
   "id": "f9f80b2d-9a84-458e-af66-06dd2cea2051",
   "metadata": {},
   "source": [
    "# References\n",
    "\n",
    "Allmendinger, R.W., Cardozo, N. and Fisher, D.W. 2012. Structural\n",
    "Geology Algorithms: Vectors and Tensors. Cambridge University Press.\n",
    "\n",
    "Frodeman, R. 1995. Geological reasoning: Geology as an interpretive and\n",
    "historical science. GSA Bulletin 107, 960-968.\n",
    "\n",
    "Jacobs, C.T., Gorman, G.J., Rees, H.E. and Craig, L.E. 2016. Experiences\n",
    "with efficient methodologies for teaching computer programming to\n",
    "geoscientists. Journal of Geological Education 64, 183-198.\n",
    "\n",
    "Ragan, D.M. 2009. Structural Geology: An Introduction to Geometrical\n",
    "Techniques. Cambridge University Press."
   ]
  }
 ],
 "metadata": {
  "kernelspec": {
   "display_name": "Python 3 (ipykernel)",
   "language": "python",
   "name": "python3"
  },
  "language_info": {
   "codemirror_mode": {
    "name": "ipython",
    "version": 3
   },
   "file_extension": ".py",
   "mimetype": "text/x-python",
   "name": "python",
   "nbconvert_exporter": "python",
   "pygments_lexer": "ipython3",
   "version": "3.11.0"
  }
 },
 "nbformat": 4,
 "nbformat_minor": 5
}
