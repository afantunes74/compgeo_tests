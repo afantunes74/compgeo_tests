{
 "cells": [
  {
   "attachments": {},
   "cell_type": "markdown",
   "id": "9daeb1d4-7df2-4ab0-9a73-d7b867e8073b",
   "metadata": {},
   "source": [
    "# References\n",
    "\n",
    "Allmendinger, R.W., Cardozo, N. and Fisher, D.W. 2012. Structural\n",
    "Geology Algorithms: Vectors and Tensors. Cambridge University Press.\n",
    "\n",
    "Allmendinger, R.W., Siron, C.R. and Scott, C.P. 2017. Structural data\n",
    "collection with mobile devices: Accuracy, redundancy,and best practices.\n",
    "Journal of Structural Geology 102, 98-112.\n",
    "\n",
    "Allmendinger, R.W. 2020. Modern Structural Practice: A structural\n",
    "geology laboratory manual for the 21st century.\n",
    "\\[[Online](https://www.rickallmendinger.net/download)\\]. \\[Accessed\n",
    "March, 2021\\].\n",
    "\n",
    "Coe, A. 2010. Geological Field Techniques. Wiley-Blackwell.\n",
    "\n",
    "Compton, R.R. 1985. Geology in the field. John Wiley & Sons.\n",
    "\n",
    "Novakova, L. and Pavlis, T.L. 2017. Assessment of the precision of smart\n",
    "phones and tablets for measurement of planar orientations: A case study.\n",
    "Journal of Structural Geology 97, 93-103.\n",
    "\n",
    "Marshak, S. and Mitra, G. 1988. Basic Methods of Structural Geology.\n",
    "Prentice Hall.\n",
    "\n",
    "Ragan, D.M. 2009. Structural Geology: An Introduction to Geometrical\n",
    "Techniques. Cambridge University Press.\n",
    "\n",
    "Wang, J., Nengpan, J., Chaoyang, H., Junchao, C. and Zheng, D. 2020.\n",
    "Assessment of the accuracy of several methods for measuring the spatial\n",
    "attitude of geological bodies using an android smartphone. Journal of\n",
    "Structural Geology 136, 104393.\n",
    "\n",
    "Whitmeyer, S.J., Pyle, E.J., Pavlis, T.L, Swanger, W. and Roberts, L.\n",
    "2019. Modern approaches to field data collection and mapping: Digital\n",
    "methods, crowdsourcing, and the future of statistical analyses. Journal\n",
    "of Structural Geology 125, 29-40.\n",
    "\n",
    "Woodcock, N.H. 1976. The accuracy of structural field measurements.\n",
    "Journal of Geology 84, 350-355."
   ]
  }
 ],
 "metadata": {
  "kernelspec": {
   "display_name": "Python 3 (ipykernel)",
   "language": "python",
   "name": "python3"
  },
  "language_info": {
   "codemirror_mode": {
    "name": "ipython",
    "version": 3
   },
   "file_extension": ".py",
   "mimetype": "text/x-python",
   "name": "python",
   "nbconvert_exporter": "python",
   "pygments_lexer": "ipython3",
   "version": "3.11.0"
  }
 },
 "nbformat": 4,
 "nbformat_minor": 5
}
