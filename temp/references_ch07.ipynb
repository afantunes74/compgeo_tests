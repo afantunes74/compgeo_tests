{
 "cells": [
  {
   "attachments": {},
   "cell_type": "markdown",
   "id": "ae34dbc2-e990-4233-9d67-3e21197bb711",
   "metadata": {},
   "source": [
    "# References\n",
    "\n",
    "Allmendinger, R.W., Cardozo, N. and Fisher, D.M. 2012. Structural\n",
    "Geology Algorithms: Vectors and Tensors. Cambridge University Press.\n",
    "\n",
    "Gephart, J.W. 1990. Stress and the direction of slip on fault planes.\n",
    "Tectonics 9, 845-858.\n",
    "\n",
    "Marshak, S. and Mitra, G. 1988. Basic Methods of Structural Geology.\n",
    "Prentice Hall.\n",
    "\n",
    "Morris, A.P., Ferrill, D.A. and Henderson, D.B. 1996. Slip-tendency\n",
    "analysis and fault reactivation. Geology 24, 275-278.\n",
    "\n",
    "Morris, A.P. and Ferrill, D.A. 2009. The importance of the effective\n",
    "intermediate principal stress ($\\sigma'_2$) to fault slip patterns.\n",
    "Journal of Structural Geology 31, 950-959.\n",
    "\n",
    "Ragan, D.M. 2009. Structural Geology: An Introduction to Geometrical\n",
    "Techniques. Cambridge University Press.\n",
    "\n",
    "Ramsay, J.G. 1967. Folding and Fracturing of Rocks. McGraw-Hill, New\n",
    "York."
   ]
  }
 ],
 "metadata": {
  "kernelspec": {
   "display_name": "Python 3 (ipykernel)",
   "language": "python",
   "name": "python3"
  },
  "language_info": {
   "codemirror_mode": {
    "name": "ipython",
    "version": 3
   },
   "file_extension": ".py",
   "mimetype": "text/x-python",
   "name": "python",
   "nbconvert_exporter": "python",
   "pygments_lexer": "ipython3",
   "version": "3.11.0"
  }
 },
 "nbformat": 4,
 "nbformat_minor": 5
}
