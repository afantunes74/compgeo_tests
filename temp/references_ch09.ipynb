{
 "cells": [
  {
   "attachments": {},
   "cell_type": "markdown",
   "id": "38b43f87-b948-41c3-bcaf-899d19c871d0",
   "metadata": {},
   "source": [
    "# References\n",
    "\n",
    "Allmendinger, R.W. 2020. Modern Structural Practice: A structural\n",
    "geology laboratory manual for the 21st century.\n",
    "\\[[Online](https://www.rickallmendinger.net/download)\\]. \\[Accessed\n",
    "March, 2021\\].\n",
    "\n",
    "Fossen, H. 2016. Structural Geology. Cambridge University Press.\n",
    "\n",
    "Gudmunsson, A. 2011. Rock fractures in geological processes. Cambridge\n",
    "University Press.\n",
    "\n",
    "Hetenyi, M. 1946. Beams on Elastic Foundations. Theory with Applications\n",
    "in the Fields of Civil and Mechanical Engineering. The University of\n",
    "Michigan Press.\n",
    "\n",
    "Hoek, E. 2006. Practical Rock Engineering. Available from this\n",
    "[link](https://www.rocscience.com/assets/resources/learning/hoek/Practical-Rock-Engineering-Full-Text.pdf).\n",
    "\n",
    "Jaeger, J.C., Cook, N.G.W. and Zimmerman, R.W. 2007. Fundamentals of\n",
    "Rock Mechanics, fourth edition. Blackwell Publishing.\n",
    "\n",
    "Pollard, D.D. and Fletcher, R.C. 2005. Fundamentals of Structural\n",
    "Geology. Cambridge University Press.\n",
    "\n",
    "Ragan, D.M. 2009. Structural Geology: An Introduction to Geometrical\n",
    "Techniques. Cambridge University Press.\n",
    "\n",
    "Segall, P. 2010. Earthquake and Volcano Deformation. Princeton\n",
    "University Press.\n",
    "\n",
    "Sheriff, R. and Geldart, L.P. 1995. Exploration Seismology, second\n",
    "edition. Cambridge University Press.\n",
    "\n",
    "Stein, R.S. and Barrientos, S.E. 1985. Planar High-Angle Faulting in the\n",
    "Basin and Range: Geodetic Analysis of the 1983 Borah Peak, Idaho,\n",
    "Earthquake. Journal of Geophysical Research 90, 11,355-11,366.\n",
    "\n",
    "Turcotte, D.L. and Schubert, G. 1982. Geodynamics. Jon Wiley $\\&$ Sons.\n",
    "\n",
    "Van Der Pluijm, B.A. and Marshak, S. 2004. Earth Structure, second\n",
    "edition. Norton.\n",
    "\n",
    "Virieux, J. 1986. P-SV wave propagation in heterogeneous media:\n",
    "Velocity-stress finite-difference method. Geophysics 51, 889-901.\n",
    "\n",
    "Watts, A.B. 2001. Isostasy and Flexure of the Lithosphere. Cambridge\n",
    "University Press.\n",
    "\n",
    "Zoback, M.D. 2010. Reservoir Geomechanics. Cambridge University Press."
   ]
  }
 ],
 "metadata": {
  "kernelspec": {
   "display_name": "Python 3 (ipykernel)",
   "language": "python",
   "name": "python3"
  },
  "language_info": {
   "codemirror_mode": {
    "name": "ipython",
    "version": 3
   },
   "file_extension": ".py",
   "mimetype": "text/x-python",
   "name": "python",
   "nbconvert_exporter": "python",
   "pygments_lexer": "ipython3",
   "version": "3.11.0"
  }
 },
 "nbformat": 4,
 "nbformat_minor": 5
}
