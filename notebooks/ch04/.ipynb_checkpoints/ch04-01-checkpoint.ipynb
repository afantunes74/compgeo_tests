{
 "cells": [
  {
   "cell_type": "markdown",
   "metadata": {},
   "source": [
    "# Vector components, magnitude, and unit vectors"
   ]
  },
  {
   "cell_type": "code",
   "execution_count": 1,
   "metadata": {},
   "outputs": [],
   "source": [
    "# Import numpy\n",
    "import numpy as np"
   ]
  },
  {
   "cell_type": "code",
   "execution_count": 4,
   "metadata": {
    "tags": []
   },
   "outputs": [
    {
     "name": "stdout",
     "output_type": "stream",
     "text": [
      "Vector: [1 2 3]\n",
      "Magnitude of the vector: 3.7416573867739413\n",
      "Unit Vector: [0.26726124 0.53452248 0.80178373]\n",
      "Magnitude of the unit vector: 1.0\n"
     ]
    }
   ],
   "source": [
    "# Make vector\n",
    "v = np.array([1,2,3])\n",
    "print(\"Vector:\", v)\n",
    "# Magnitude of the vector\n",
    "length = np.linalg.norm(v) \n",
    "print(\"Magnitude of the vector:\", length)\n",
    "# Unit vector\n",
    "v_hat = v / length\n",
    "print(\"Unit Vector:\", v_hat)\n",
    "# Magnitude of unit vector\n",
    "length = np.linalg.norm(v_hat) \n",
    "print(\"Magnitude of the unit vector:\", length)"
   ]
  },
  {
   "cell_type": "code",
   "execution_count": null,
   "metadata": {},
   "outputs": [],
   "source": []
  }
 ],
 "metadata": {
  "kernelspec": {
   "display_name": "Python 3 (ipykernel)",
   "language": "python",
   "name": "python3"
  },
  "language_info": {
   "codemirror_mode": {
    "name": "ipython",
    "version": 3
   },
   "file_extension": ".py",
   "mimetype": "text/x-python",
   "name": "python",
   "nbconvert_exporter": "python",
   "pygments_lexer": "ipython3",
   "version": "3.11.0"
  }
 },
 "nbformat": 4,
 "nbformat_minor": 4
}
