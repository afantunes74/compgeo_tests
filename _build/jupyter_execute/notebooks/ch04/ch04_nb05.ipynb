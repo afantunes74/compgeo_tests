{
 "cells": [
  {
   "cell_type": "markdown",
   "metadata": {},
   "source": [
    "(ch04_nb05)=\n",
    "# Three points problem"
   ]
  },
  {
   "cell_type": "code",
   "execution_count": 1,
   "metadata": {},
   "outputs": [],
   "source": [
    "import numpy as np\n",
    "pi = np.pi\n",
    "\n",
    "# Import function three_points\n",
    "import sys, os\n",
    "sys.path.append(os.path.abspath(\"../../\"))\n",
    "\n",
    "from compgeo.three_points import three_points"
   ]
  },
  {
   "cell_type": "code",
   "execution_count": 2,
   "metadata": {
    "tags": []
   },
   "outputs": [
    {
     "name": "stdout",
     "output_type": "stream",
     "text": [
      "Plane strike = 84.5, dip = 22.5\n"
     ]
    }
   ],
   "source": [
    "# ENU coordinates of the three points\n",
    "p1 = np.array([509, 2041, 400])\n",
    "p2 = np.array([1323, 2362, 500])\n",
    "p3 = np.array([2003, 2913, 700])\n",
    "\n",
    "# Compute the orientation of the plane\n",
    "strike, dip = three_points(p1,p2,p3)\n",
    "print(\"Plane strike = {:.1f}, dip = {:.1f}\"\n",
    "      .format(strike*180/pi,dip*180/pi))"
   ]
  },
  {
   "cell_type": "code",
   "execution_count": null,
   "metadata": {},
   "outputs": [],
   "source": []
  }
 ],
 "metadata": {
  "kernelspec": {
   "display_name": "Python 3 (ipykernel)",
   "language": "python",
   "name": "python3"
  },
  "language_info": {
   "codemirror_mode": {
    "name": "ipython",
    "version": 3
   },
   "file_extension": ".py",
   "mimetype": "text/x-python",
   "name": "python",
   "nbconvert_exporter": "python",
   "pygments_lexer": "ipython3",
   "version": "3.11.0"
  }
 },
 "nbformat": 4,
 "nbformat_minor": 4
}